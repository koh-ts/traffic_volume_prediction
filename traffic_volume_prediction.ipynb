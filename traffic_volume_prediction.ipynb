{
  "nbformat": 4,
  "nbformat_minor": 0,
  "metadata": {
    "colab": {
      "name": "traffic_volume_prediction.ipynb",
      "provenance": [],
      "collapsed_sections": [],
      "include_colab_link": true
    },
    "kernelspec": {
      "name": "python3",
      "display_name": "Python 3"
    }
  },
  "cells": [
    {
      "cell_type": "markdown",
      "metadata": {
        "id": "view-in-github",
        "colab_type": "text"
      },
      "source": [
        "<a href=\"https://colab.research.google.com/github/koh-ts/traffic_volume_prediction/blob/master/traffic_volume_prediction.ipynb\" target=\"_parent\"><img src=\"https://colab.research.google.com/assets/colab-badge.svg\" alt=\"Open In Colab\"/></a>"
      ]
    },
    {
      "cell_type": "code",
      "metadata": {
        "id": "RRTRSiPb467j",
        "colab_type": "code",
        "colab": {}
      },
      "source": [
        "import numpy as np\n",
        "from sklearn.linear_model import Ridge\n",
        "import pandas as pd\n",
        "import datetime\n",
        "import pandas_profiling as pdp\n",
        "from IPython.display import HTML"
      ],
      "execution_count": 0,
      "outputs": []
    },
    {
      "cell_type": "code",
      "metadata": {
        "id": "ysl_svNjGhzq",
        "colab_type": "code",
        "colab": {}
      },
      "source": [
        "from google.colab import drive\n",
        "drive.mount('/content/drive/')"
      ],
      "execution_count": 0,
      "outputs": []
    },
    {
      "cell_type": "code",
      "metadata": {
        "id": "McdEHfkdG2tA",
        "colab_type": "code",
        "colab": {}
      },
      "source": [
        "root_dir = '/content/drive/My Drive/report1/'\n",
        "\n",
        "N = 30000\n",
        "nfeat = 8\n",
        "\n",
        "train_data = pd.read_csv(root_dir + 'train.csv')\n",
        "test_data = pd.read_csv(root_dir + 'test.csv')\n",
        "\n",
        "Xmat = np.matrix(train_data)[:,:nfeat]\n",
        "Ymat = np.matrix(train_data)[:,nfeat]"
      ],
      "execution_count": 0,
      "outputs": []
    },
    {
      "cell_type": "code",
      "metadata": {
        "id": "i846nnrWYL5p",
        "colab_type": "code",
        "colab": {}
      },
      "source": [
        "all_data = pd.concat([train_data, test_data], ignore_index=True)\n",
        "all_data = all_data[['timestamp', 'holiday', 'temperature', 'weather', 'weather_detail', 'rain_in_hour', 'snow_in_hour', 'clouds_cover', 'traffic_volume']]\n",
        "# all_data.head(4)\n",
        "# all_data[['holiday'][:2]]"
      ],
      "execution_count": 0,
      "outputs": []
    },
    {
      "cell_type": "code",
      "metadata": {
        "id": "8L_QqWNMYNwn",
        "colab_type": "code",
        "colab": {}
      },
      "source": [
        "profile1 = pdp.ProfileReport(all_data)\n",
        "profile1.to_file(outputfile=\"myoutputfile1.html\")\n",
        "HTML(filename='myoutputfile1.html')"
      ],
      "execution_count": 0,
      "outputs": []
    },
    {
      "cell_type": "code",
      "metadata": {
        "id": "6S-0nZG9Gz4e",
        "colab_type": "code",
        "colab": {}
      },
      "source": [
        "# cnt = 0\n",
        "for index, d in all_data.iterrows():\n",
        "  # cnt += 1\n",
        "  n = int(d['timestamp'][11:13])\n",
        "  # print(all_data.iat[index, 1])\n",
        "  if all_data.iat[index - n, 1] != 'None':\n",
        "    all_data.at[index, 'isholiday'] = 1\n",
        "    # print(all_data.at[index, 'isholiday'])\n",
        "  else:\n",
        "    all_data.at[index, 'isholiday'] = 0\n",
        "    # print(all_data.at[index, 'isholiday'])\n",
        "  all_data.at[index, 'time'] = n // 2\n",
        "  # if 0 <= n < 4:\n",
        "  #   all_data['time'] = 0\n",
        "  # elif 4 <= n < 8:\n",
        "  #   all_data['time'] = 1\n",
        "  # elif 8 <= n < 12:\n",
        "  #   all_data['time'] = 2\n",
        "  # elif 12 <= n < 16:\n",
        "  #   all_data['time'] = 3\n",
        "  # elif 16 <= n < 20:\n",
        "  #   all_data['time'] = 4\n",
        "  # elif 20 <= n < 24:\n",
        "  #   all_data['time'] = 5\n",
        "  # if cnt == 100:\n",
        "  #   break"
      ],
      "execution_count": 0,
      "outputs": []
    },
    {
      "cell_type": "code",
      "metadata": {
        "id": "VRbZdy0DKRi5",
        "colab_type": "code",
        "colab": {}
      },
      "source": [
        "# all_data['temperature'] = all_data['temperature'].apply(lambda x : x * 9 / 5 - 459.67)\n",
        "all_data['weather_detail'] = all_data['weather_detail'].str.replace('Sky is clear', 'clear')\n",
        "all_data['weather_detail'] = all_data['weather_detail'].str.replace('sky is clear', 'clear')\n",
        "all_data['weather_detail'] = all_data['weather_detail'].str.replace('Sky is Clear', 'clear')"
      ],
      "execution_count": 0,
      "outputs": []
    },
    {
      "cell_type": "code",
      "metadata": {
        "id": "Fw3Se-myRD5e",
        "colab_type": "code",
        "colab": {}
      },
      "source": [
        "meta_t = pd.get_dummies(all_data['time'])\n",
        "meta_w = pd.get_dummies(all_data['weather'])\n",
        "meta_wd = pd.get_dummies(all_data['weather_detail'])"
      ],
      "execution_count": 0,
      "outputs": []
    },
    {
      "cell_type": "code",
      "metadata": {
        "id": "dE_uLfYibGeI",
        "colab_type": "code",
        "colab": {}
      },
      "source": [
        "profile2 = pdp.ProfileReport(all_data)\n",
        "profile2.to_file(outputfile=\"myoutputfile2.html\")\n",
        "HTML(filename='myoutputfile2.html')"
      ],
      "execution_count": 0,
      "outputs": []
    },
    {
      "cell_type": "code",
      "metadata": {
        "id": "FNi2a535Q_0U",
        "colab_type": "code",
        "colab": {}
      },
      "source": [
        "del all_data['timestamp']\n",
        "del all_data['weather']\n",
        "del all_data['holiday']\n",
        "del all_data['weather_detail']"
      ],
      "execution_count": 0,
      "outputs": []
    },
    {
      "cell_type": "code",
      "metadata": {
        "id": "vYYtWPPhbZHq",
        "colab_type": "code",
        "colab": {}
      },
      "source": [
        "# all_data = all_data[['temperature', 'rain_in_hour', 'snow_in_hour', 'clouds_cover', 'time', 'isholiday', 'traffic_volume']]\n",
        "all_data = all_data[['temperature', 'rain_in_hour', 'snow_in_hour', 'clouds_cover', 'time', 'traffic_volume']]\n",
        "all_data.columns\n",
        "l = len(all_data.columns) - 1\n",
        "# all_data.head(3)"
      ],
      "execution_count": 0,
      "outputs": []
    },
    {
      "cell_type": "code",
      "metadata": {
        "id": "_IGZd4cDUQe9",
        "colab_type": "code",
        "colab": {}
      },
      "source": [
        "# all_data.iloc[:3, :6]\n",
        "# Xmat[:,1:5]\n",
        "# meta_w.head(3)\n",
        "# meta_wd.head(3)\n",
        "# meta_t.head(3)"
      ],
      "execution_count": 0,
      "outputs": []
    },
    {
      "cell_type": "code",
      "metadata": {
        "id": "XkXY-h1zIE_W",
        "colab_type": "code",
        "colab": {}
      },
      "source": [
        "X = np.float64(np.hstack([meta_w.iloc[:len(train_data),:],meta_wd.iloc[:len(train_data),:],meta_t.iloc[:len(train_data),:],all_data.iloc[:len(train_data),:l]]))\n",
        "Y = np.float64(Ymat)\n",
        "\n",
        "XTrain = X[:N,:]\n",
        "YTrain = Y[:N,:]\n",
        "XVal = X[N:,:]\n",
        "YVal = Y[N:,:]"
      ],
      "execution_count": 0,
      "outputs": []
    },
    {
      "cell_type": "code",
      "metadata": {
        "id": "ZbI_wYgchLvp",
        "colab_type": "code",
        "colab": {}
      },
      "source": [
        "reg = Ridge(alpha=90).fit(XTrain, YTrain)"
      ],
      "execution_count": 0,
      "outputs": []
    },
    {
      "cell_type": "code",
      "metadata": {
        "id": "DwGTi5eUhqL0",
        "colab_type": "code",
        "colab": {}
      },
      "source": [
        "def RMSE(vec1, vec2):\n",
        "  return np.sqrt(np.mean(np.power(vec1-vec2,2)))\n",
        "\n",
        "yHatTrain = reg.predict(XTrain)\n",
        "yHatVal = reg.predict(XVal)\n",
        "print(\"Training error \", RMSE(YTrain, yHatTrain))\n",
        "print(\"Validation error \", RMSE(YVal, yHatVal))"
      ],
      "execution_count": 0,
      "outputs": []
    },
    {
      "cell_type": "code",
      "metadata": {
        "id": "vGYHKRhPiJBV",
        "colab_type": "code",
        "colab": {}
      },
      "source": [
        "# XTest = np.float64(np.hstack([test_data.iloc[:,1:5],meta_w.iloc[len(train_data):,:],meta_wd.iloc[len(train_data):,:],all_data.iloc[len(train_data):,-1:]]))\n",
        "XTest = np.float64(np.hstack([meta_w.iloc[len(train_data):,:],meta_wd.iloc[len(train_data):,:],meta_t.iloc[len(train_data):,:],all_data.iloc[len(train_data):,:l]]))\n",
        "# XTest.shape\n",
        "# XTrain.shape"
      ],
      "execution_count": 0,
      "outputs": []
    },
    {
      "cell_type": "code",
      "metadata": {
        "id": "jSciXN6CcifL",
        "colab_type": "code",
        "colab": {}
      },
      "source": [
        "yHatTest = reg.predict(XTest)\n",
        "\n",
        "np.savetxt(root_dir+'result.txt', yHatTest) #save predictions in rows"
      ],
      "execution_count": 0,
      "outputs": []
    }
  ]
}